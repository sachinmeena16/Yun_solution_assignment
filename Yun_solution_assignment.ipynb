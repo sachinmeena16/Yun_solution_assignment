{
  "nbformat": 4,
  "nbformat_minor": 0,
  "metadata": {
    "colab": {
      "provenance": [],
      "toc_visible": true
    },
    "kernelspec": {
      "name": "python3",
      "display_name": "Python 3"
    },
    "language_info": {
      "name": "python"
    },
    "gpuClass": "standard"
  },
  "cells": [
    {
      "cell_type": "markdown",
      "source": [
        "Extract the audio from the mp3 file"
      ],
      "metadata": {
        "id": "dYaxWAf8wLPc"
      }
    },
    {
      "cell_type": "code",
      "source": [
        "!pip install pydub      # splitting audio files and stuff"
      ],
      "metadata": {
        "colab": {
          "base_uri": "https://localhost:8080/"
        },
        "id": "7YJxQfnMweNx",
        "outputId": "a962a9e4-82e1-4877-9c88-9fb4111fa6f2"
      },
      "execution_count": 73,
      "outputs": [
        {
          "output_type": "stream",
          "name": "stdout",
          "text": [
            "Looking in indexes: https://pypi.org/simple, https://us-python.pkg.dev/colab-wheels/public/simple/\n",
            "Requirement already satisfied: pydub in /usr/local/lib/python3.10/dist-packages (0.25.1)\n"
          ]
        }
      ]
    },
    {
      "cell_type": "code",
      "source": [
        "pip install pyAudioAnalysis\n"
      ],
      "metadata": {
        "colab": {
          "base_uri": "https://localhost:8080/"
        },
        "id": "FUAkuRHQ1G4F",
        "outputId": "ce021d8d-e8da-432c-afa5-90e871bc5f85"
      },
      "execution_count": null,
      "outputs": [
        {
          "output_type": "stream",
          "name": "stdout",
          "text": [
            "Looking in indexes: https://pypi.org/simple, https://us-python.pkg.dev/colab-wheels/public/simple/\n",
            "Requirement already satisfied: pyAudioAnalysis in /usr/local/lib/python3.10/dist-packages (0.3.14)\n"
          ]
        }
      ]
    },
    {
      "cell_type": "code",
      "source": [
        "pip install -U praat-parselmouth"
      ],
      "metadata": {
        "colab": {
          "base_uri": "https://localhost:8080/"
        },
        "id": "iL4K292PmVcX",
        "outputId": "102c13b9-d57b-444c-d6d8-21d8e8cf20f4"
      },
      "execution_count": null,
      "outputs": [
        {
          "output_type": "stream",
          "name": "stdout",
          "text": [
            "Looking in indexes: https://pypi.org/simple, https://us-python.pkg.dev/colab-wheels/public/simple/\n",
            "Collecting praat-parselmouth\n",
            "  Downloading praat_parselmouth-0.4.3-cp310-cp310-manylinux_2_12_x86_64.manylinux2010_x86_64.whl (10.7 MB)\n",
            "\u001b[2K     \u001b[90m━━━━━━━━━━━━━━━━━━━━━━━━━━━━━━━━━━━━━━━━\u001b[0m \u001b[32m10.7/10.7 MB\u001b[0m \u001b[31m67.1 MB/s\u001b[0m eta \u001b[36m0:00:00\u001b[0m\n",
            "\u001b[?25hRequirement already satisfied: numpy>=1.7.0 in /usr/local/lib/python3.10/dist-packages (from praat-parselmouth) (1.22.4)\n",
            "Installing collected packages: praat-parselmouth\n",
            "Successfully installed praat-parselmouth-0.4.3\n"
          ]
        }
      ]
    },
    {
      "cell_type": "markdown",
      "source": [
        "part 1"
      ],
      "metadata": {
        "id": "xvvMn8Wp7i6g"
      }
    },
    {
      "cell_type": "code",
      "execution_count": 81,
      "metadata": {
        "id": "rN9LjHUwln4t",
        "colab": {
          "base_uri": "https://localhost:8080/"
        },
        "outputId": "1ec5347a-3e20-4c2e-e671-ba026dc1dff8"
      },
      "outputs": [
        {
          "output_type": "stream",
          "name": "stdout",
          "text": [
            "[3.0517578125e-05, -9.1552734375e-05, -6.103515625e-05, 0.0, -3.0517578125e-05, -3.0517578125e-05, 0.0, -3.0517578125e-05, -3.0517578125e-05, 0.0]\n"
          ]
        }
      ],
      "source": [
        "from pydub import AudioSegment \n",
        "from matplotlib import pyplot as plt\n",
        "import librosa\n",
        "import numpy as np\n",
        "import parselmouth\n",
        "import statsmodels.api as sm\n",
        "from scipy.signal import find_peaks\n",
        "from pydub import AudioSegment\n",
        "from sklearn import svm\n",
        "import pandas as pd\n",
        "# Load the MP3 file\n",
        "audio = AudioSegment.from_mp3(\"/content/Dil Ke Paas - Arijit Singh_128-(DJMaza).mp3\")\n",
        "# Extract the audio data\n",
        "audio_data = np.array(audio.get_array_of_samples())\n",
        "#Convert the audio data to a list of floats\n",
        "audio_data = [float(sample)/32768 for sample in audio_data]\n",
        "# Print the first 10 samples\n",
        "print(audio_data[:10])\n"
      ]
    },
    {
      "cell_type": "markdown",
      "source": [
        "Speakers Emotions"
      ],
      "metadata": {
        "id": "8kgP1MtnzAtf"
      }
    },
    {
      "cell_type": "code",
      "source": [
        "### pitch calculation \n",
        "# Load data and sampling frequency from the data file\n",
        "data, sampling_frequency = librosa.load('/content/Dil Ke Paas - Arijit Singh_128-(DJMaza).mp3')\n",
        "\n",
        "# Get some useful statistics\n",
        "T = 1/sampling_frequency # Sampling period\n",
        "N = len(data) # Signal length in samples\n",
        "t = N / sampling_frequency # Signal length in seconds\n"
      ],
      "metadata": {
        "id": "BBkWV8_E6sTH"
      },
      "execution_count": 82,
      "outputs": []
    },
    {
      "cell_type": "code",
      "source": [
        "Y_k = np.fft.fft(data)[0:int(N/2)]/N # FFT\n",
        "Y_k[1:] = 2*Y_k[1:] # Single-sided spectrum\n",
        "Pxx = np.abs(Y_k) # Power spectrum\n",
        "\n",
        "f = sampling_frequency * np.arange((N/2)) / N; # frequencies\n",
        "\n",
        "# plotting\n",
        "fig,ax = plt.subplots()\n",
        "plt.plot(f[0:5000], Pxx[0:5000], linewidth=2)\n",
        "plt.ylabel('Amplitude')\n",
        "plt.xlabel('Frequency [Hz]')\n",
        "plt.show()"
      ],
      "metadata": {
        "colab": {
          "base_uri": "https://localhost:8080/",
          "height": 449
        },
        "id": "gsdoK6q87Jwg",
        "outputId": "ffd2ba12-75b7-432e-b656-c48c8457101e"
      },
      "execution_count": 83,
      "outputs": [
        {
          "output_type": "display_data",
          "data": {
            "text/plain": [
              "<Figure size 640x480 with 1 Axes>"
            ],
            "image/png": "[encoded data removed]"
          },
          "metadata": {}
        }
      ]
    },
    {
      "cell_type": "code",
      "source": [
        "auto = sm.tsa.acf(data, nlags=2000)\n",
        "peaks = find_peaks(auto)[0] # Find peaks of the autocorrelation\n",
        "lag = peaks[0] # Choose the first peak as our pitch component lag\n",
        "pitch = sampling_frequency / lag # Transform lag into frequency"
      ],
      "metadata": {
        "id": "00R51GSk7RRH"
      },
      "execution_count": 84,
      "outputs": []
    },
    {
      "cell_type": "markdown",
      "source": [
        "for energy"
      ],
      "metadata": {
        "id": "hwg1f8J97sAC"
      }
    },
    {
      "cell_type": "code",
      "source": [
        "\n",
        "\n",
        "# Load the mp3 file and convert to a numpy array\n",
        "#audio_file = AudioSegment.from_file(\"/content/Dil Ke Paas - Arijit Singh_128-(DJMaza).mp3\")\n",
        "#audio_data =  np. asfarray(audio_file.get_array_of_samples())\n",
        "audio_data =  np. asfarray(audio_data)\n",
        "\n",
        "# Resample the audio signal to 16kHz and convert to mono\n",
        "audio_data_resampled = librosa.resample(audio_data,orig_sr=len(audio_data),target_sr=16000)\n",
        "audio_data_mono = librosa.to_mono(audio_data_resampled)\n",
        "\n",
        "\n",
        "# Extract acoustic features from the audio signal\n",
        "pitch = parselmouth.Sound(audio_data_mono).to_pitch()\n",
        "pitch_values = pitch.selected_array['frequency']\n",
        "energy_values =np.square(audio_data_mono)\n",
        "print(pitch_values)\n",
        "print(energy_values)\n",
        "\n"
      ],
      "metadata": {
        "colab": {
          "base_uri": "https://localhost:8080/"
        },
        "id": "A61WGogV1h2n",
        "outputId": "f7bba337-ea5f-4708-c70a-f75852a6e736"
      },
      "execution_count": 85,
      "outputs": [
        {
          "output_type": "stream",
          "name": "stdout",
          "text": [
            "[0. 0. 0. 0. 0. 0. 0. 0. 0. 0. 0. 0. 0. 0. 0. 0. 0. 0. 0. 0. 0. 0. 0. 0.\n",
            " 0. 0. 0. 0. 0. 0. 0. 0. 0.]\n",
            "[9.01488436e-11 2.86697710e-10 1.89230114e-10 ... 3.33517275e-10\n",
            " 3.08070211e-12 7.40139167e-11]\n"
          ]
        }
      ]
    },
    {
      "cell_type": "markdown",
      "source": [
        "Train a model"
      ],
      "metadata": {
        "id": "NITBTIVl920r"
      }
    },
    {
      "cell_type": "code",
      "source": [
        "# Train a machine learning model to predict emotions\n",
        "features = np.concatenate((pitch_values, energy_values), axis=0)\n",
        "labels = np.array(['happy', 'angry', 'sad', 'neutral'])  # Labeled emotional data\\\n",
        "print(features)\n"
      ],
      "metadata": {
        "colab": {
          "base_uri": "https://localhost:8080/"
        },
        "id": "kw7rHq8i9wUN",
        "outputId": "20d074a0-cd4c-4ed0-9e6b-2ebbb03b029a"
      },
      "execution_count": 86,
      "outputs": [
        {
          "output_type": "stream",
          "name": "stdout",
          "text": [
            "[0.00000000e+00 0.00000000e+00 0.00000000e+00 ... 3.33517275e-10\n",
            " 3.08070211e-12 7.40139167e-11]\n"
          ]
        }
      ]
    },
    {
      "cell_type": "markdown",
      "source": [
        "predict the emotions "
      ],
      "metadata": {
        "id": "06W8oIiA7x9Y"
      }
    },
    {
      "cell_type": "code",
      "source": [
        "clf = svm.SVC()\n",
        "clf.fit(features, labels)\n",
        "\n",
        "# Predict the speaker's emotion in the mp3 file\n",
        "audio_features = np.concatenate((pitch_values, energy_values), axis=0)\n",
        "predicted_emotion = clf.predict([audio_features])\n",
        "print(f\"Predicted emotion: {predicted_emotion}\")"
      ],
      "metadata": {
        "colab": {
          "base_uri": "https://localhost:8080/",
          "height": 468
        },
        "id": "QUV5WUPs_XDH",
        "outputId": "4ace3df1-bcd0-4021-d0f6-51a033a3552c"
      },
      "execution_count": 87,
      "outputs": [
        {
          "output_type": "error",
          "ename": "ValueError",
          "evalue": "ignored",
          "traceback": [
            "\u001b[0;31m---------------------------------------------------------------------------\u001b[0m",
            "\u001b[0;31mValueError\u001b[0m                                Traceback (most recent call last)",
            "\u001b[0;32m<ipython-input-87-8a6aed85dbc4>\u001b[0m in \u001b[0;36m<cell line: 2>\u001b[0;34m()\u001b[0m\n\u001b[1;32m      1\u001b[0m \u001b[0mclf\u001b[0m \u001b[0;34m=\u001b[0m \u001b[0msvm\u001b[0m\u001b[0;34m.\u001b[0m\u001b[0mSVC\u001b[0m\u001b[0;34m(\u001b[0m\u001b[0;34m)\u001b[0m\u001b[0;34m\u001b[0m\u001b[0;34m\u001b[0m\u001b[0m\n\u001b[0;32m----> 2\u001b[0;31m \u001b[0mclf\u001b[0m\u001b[0;34m.\u001b[0m\u001b[0mfit\u001b[0m\u001b[0;34m(\u001b[0m\u001b[0mfeatures\u001b[0m\u001b[0;34m,\u001b[0m \u001b[0mlabels\u001b[0m\u001b[0;34m)\u001b[0m\u001b[0;34m\u001b[0m\u001b[0;34m\u001b[0m\u001b[0m\n\u001b[0m\u001b[1;32m      3\u001b[0m \u001b[0;34m\u001b[0m\u001b[0m\n\u001b[1;32m      4\u001b[0m \u001b[0;31m# Predict the speaker's emotion in the mp3 file\u001b[0m\u001b[0;34m\u001b[0m\u001b[0;34m\u001b[0m\u001b[0m\n\u001b[1;32m      5\u001b[0m \u001b[0maudio_features\u001b[0m \u001b[0;34m=\u001b[0m \u001b[0mnp\u001b[0m\u001b[0;34m.\u001b[0m\u001b[0mconcatenate\u001b[0m\u001b[0;34m(\u001b[0m\u001b[0;34m(\u001b[0m\u001b[0mpitch_values\u001b[0m\u001b[0;34m,\u001b[0m \u001b[0menergy_values\u001b[0m\u001b[0;34m)\u001b[0m\u001b[0;34m,\u001b[0m \u001b[0maxis\u001b[0m\u001b[0;34m=\u001b[0m\u001b[0;36m0\u001b[0m\u001b[0;34m)\u001b[0m\u001b[0;34m\u001b[0m\u001b[0;34m\u001b[0m\u001b[0m\n",
            "\u001b[0;32m/usr/local/lib/python3.10/dist-packages/sklearn/svm/_base.py\u001b[0m in \u001b[0;36mfit\u001b[0;34m(self, X, y, sample_weight)\u001b[0m\n\u001b[1;32m    190\u001b[0m             \u001b[0mcheck_consistent_length\u001b[0m\u001b[0;34m(\u001b[0m\u001b[0mX\u001b[0m\u001b[0;34m,\u001b[0m \u001b[0my\u001b[0m\u001b[0;34m)\u001b[0m\u001b[0;34m\u001b[0m\u001b[0;34m\u001b[0m\u001b[0m\n\u001b[1;32m    191\u001b[0m         \u001b[0;32melse\u001b[0m\u001b[0;34m:\u001b[0m\u001b[0;34m\u001b[0m\u001b[0;34m\u001b[0m\u001b[0m\n\u001b[0;32m--> 192\u001b[0;31m             X, y = self._validate_data(\n\u001b[0m\u001b[1;32m    193\u001b[0m                 \u001b[0mX\u001b[0m\u001b[0;34m,\u001b[0m\u001b[0;34m\u001b[0m\u001b[0;34m\u001b[0m\u001b[0m\n\u001b[1;32m    194\u001b[0m                 \u001b[0my\u001b[0m\u001b[0;34m,\u001b[0m\u001b[0;34m\u001b[0m\u001b[0;34m\u001b[0m\u001b[0m\n",
            "\u001b[0;32m/usr/local/lib/python3.10/dist-packages/sklearn/base.py\u001b[0m in \u001b[0;36m_validate_data\u001b[0;34m(self, X, y, reset, validate_separately, **check_params)\u001b[0m\n\u001b[1;32m    582\u001b[0m                 \u001b[0my\u001b[0m \u001b[0;34m=\u001b[0m \u001b[0mcheck_array\u001b[0m\u001b[0;34m(\u001b[0m\u001b[0my\u001b[0m\u001b[0;34m,\u001b[0m \u001b[0minput_name\u001b[0m\u001b[0;34m=\u001b[0m\u001b[0;34m\"y\"\u001b[0m\u001b[0;34m,\u001b[0m \u001b[0;34m**\u001b[0m\u001b[0mcheck_y_params\u001b[0m\u001b[0;34m)\u001b[0m\u001b[0;34m\u001b[0m\u001b[0;34m\u001b[0m\u001b[0m\n\u001b[1;32m    583\u001b[0m             \u001b[0;32melse\u001b[0m\u001b[0;34m:\u001b[0m\u001b[0;34m\u001b[0m\u001b[0;34m\u001b[0m\u001b[0m\n\u001b[0;32m--> 584\u001b[0;31m                 \u001b[0mX\u001b[0m\u001b[0;34m,\u001b[0m \u001b[0my\u001b[0m \u001b[0;34m=\u001b[0m \u001b[0mcheck_X_y\u001b[0m\u001b[0;34m(\u001b[0m\u001b[0mX\u001b[0m\u001b[0;34m,\u001b[0m \u001b[0my\u001b[0m\u001b[0;34m,\u001b[0m \u001b[0;34m**\u001b[0m\u001b[0mcheck_params\u001b[0m\u001b[0;34m)\u001b[0m\u001b[0;34m\u001b[0m\u001b[0;34m\u001b[0m\u001b[0m\n\u001b[0m\u001b[1;32m    585\u001b[0m             \u001b[0mout\u001b[0m \u001b[0;34m=\u001b[0m \u001b[0mX\u001b[0m\u001b[0;34m,\u001b[0m \u001b[0my\u001b[0m\u001b[0;34m\u001b[0m\u001b[0;34m\u001b[0m\u001b[0m\n\u001b[1;32m    586\u001b[0m \u001b[0;34m\u001b[0m\u001b[0m\n",
            "\u001b[0;32m/usr/local/lib/python3.10/dist-packages/sklearn/utils/validation.py\u001b[0m in \u001b[0;36mcheck_X_y\u001b[0;34m(X, y, accept_sparse, accept_large_sparse, dtype, order, copy, force_all_finite, ensure_2d, allow_nd, multi_output, ensure_min_samples, ensure_min_features, y_numeric, estimator)\u001b[0m\n\u001b[1;32m   1104\u001b[0m         )\n\u001b[1;32m   1105\u001b[0m \u001b[0;34m\u001b[0m\u001b[0m\n\u001b[0;32m-> 1106\u001b[0;31m     X = check_array(\n\u001b[0m\u001b[1;32m   1107\u001b[0m         \u001b[0mX\u001b[0m\u001b[0;34m,\u001b[0m\u001b[0;34m\u001b[0m\u001b[0;34m\u001b[0m\u001b[0m\n\u001b[1;32m   1108\u001b[0m         \u001b[0maccept_sparse\u001b[0m\u001b[0;34m=\u001b[0m\u001b[0maccept_sparse\u001b[0m\u001b[0;34m,\u001b[0m\u001b[0;34m\u001b[0m\u001b[0;34m\u001b[0m\u001b[0m\n",
            "\u001b[0;32m/usr/local/lib/python3.10/dist-packages/sklearn/utils/validation.py\u001b[0m in \u001b[0;36mcheck_array\u001b[0;34m(array, accept_sparse, accept_large_sparse, dtype, order, copy, force_all_finite, ensure_2d, allow_nd, ensure_min_samples, ensure_min_features, estimator, input_name)\u001b[0m\n\u001b[1;32m    900\u001b[0m             \u001b[0;31m# If input is 1D raise error\u001b[0m\u001b[0;34m\u001b[0m\u001b[0;34m\u001b[0m\u001b[0m\n\u001b[1;32m    901\u001b[0m             \u001b[0;32mif\u001b[0m \u001b[0marray\u001b[0m\u001b[0;34m.\u001b[0m\u001b[0mndim\u001b[0m \u001b[0;34m==\u001b[0m \u001b[0;36m1\u001b[0m\u001b[0;34m:\u001b[0m\u001b[0;34m\u001b[0m\u001b[0;34m\u001b[0m\u001b[0m\n\u001b[0;32m--> 902\u001b[0;31m                 raise ValueError(\n\u001b[0m\u001b[1;32m    903\u001b[0m                     \u001b[0;34m\"Expected 2D array, got 1D array instead:\\narray={}.\\n\"\u001b[0m\u001b[0;34m\u001b[0m\u001b[0;34m\u001b[0m\u001b[0m\n\u001b[1;32m    904\u001b[0m                     \u001b[0;34m\"Reshape your data either using array.reshape(-1, 1) if \"\u001b[0m\u001b[0;34m\u001b[0m\u001b[0;34m\u001b[0m\u001b[0m\n",
            "\u001b[0;31mValueError\u001b[0m: Expected 2D array, got 1D array instead:\narray=[0.00000000e+00 0.00000000e+00 0.00000000e+00 ... 3.33517275e-10\n 3.08070211e-12 7.40139167e-11].\nReshape your data either using array.reshape(-1, 1) if your data has a single feature or array.reshape(1, -1) if it contains a single sample."
          ]
        }
      ]
    }
  ]
}